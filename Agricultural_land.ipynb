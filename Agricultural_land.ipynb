{
  "nbformat": 4,
  "nbformat_minor": 0,
  "metadata": {
    "kernelspec": {
      "display_name": "Python 3",
      "language": "python",
      "name": "python3"
    },
    "language_info": {
      "codemirror_mode": {
        "name": "ipython",
        "version": 3
      },
      "file_extension": ".py",
      "mimetype": "text/x-python",
      "name": "python",
      "nbconvert_exporter": "python",
      "pygments_lexer": "ipython3",
      "version": "3.7.6"
    },
    "colab": {
      "name": "Agricultural land.ipynb",
      "provenance": [],
      "collapsed_sections": []
    }
  },
  "cells": [
    {
      "cell_type": "code",
      "metadata": {
        "id": "-kCaTcaFdAgI",
        "colab_type": "code",
        "colab": {}
      },
      "source": [
        "import pandas as pd"
      ],
      "execution_count": null,
      "outputs": []
    },
    {
      "cell_type": "code",
      "metadata": {
        "id": "QaDryEZWdAgO",
        "colab_type": "code",
        "colab": {}
      },
      "source": [
        "path = 'F:\\Big_Data\\Agricultural land\\Agricultural land.csv'\n",
        "df = pd.read_csv(path)"
      ],
      "execution_count": null,
      "outputs": []
    },
    {
      "cell_type": "code",
      "metadata": {
        "id": "PjSjcrtmdAgX",
        "colab_type": "code",
        "colab": {}
      },
      "source": [
        "# Agricultural land (% of land area)\n",
        "df"
      ],
      "execution_count": null,
      "outputs": []
    },
    {
      "cell_type": "code",
      "metadata": {
        "id": "HKGND-aqdAge",
        "colab_type": "code",
        "colab": {}
      },
      "source": [
        "df.describe()"
      ],
      "execution_count": null,
      "outputs": []
    },
    {
      "cell_type": "code",
      "metadata": {
        "scrolled": true,
        "id": "KsYMSRhddAgk",
        "colab_type": "code",
        "colab": {}
      },
      "source": [
        "df.info()"
      ],
      "execution_count": null,
      "outputs": []
    },
    {
      "cell_type": "code",
      "metadata": {
        "id": "h3F_lAixdAgr",
        "colab_type": "code",
        "colab": {}
      },
      "source": [
        "df.isnull().sum().sum()"
      ],
      "execution_count": null,
      "outputs": []
    },
    {
      "cell_type": "code",
      "metadata": {
        "id": "P3WHcOtZdAgv",
        "colab_type": "code",
        "colab": {}
      },
      "source": [
        "df_ag = df.drop(['Series Name', 'Series Code', 'Time Code'], axis = 1)\n",
        "df_ag"
      ],
      "execution_count": null,
      "outputs": []
    },
    {
      "cell_type": "code",
      "metadata": {
        "id": "ycGFuhWIdAg2",
        "colab_type": "code",
        "colab": {}
      },
      "source": [
        "df_ag['Time'] = df_ag['Time'].astype(int)\n",
        "df_ag"
      ],
      "execution_count": null,
      "outputs": []
    },
    {
      "cell_type": "code",
      "metadata": {
        "id": "-BQvOr9WdAg6",
        "colab_type": "code",
        "colab": {}
      },
      "source": [
        "df_ag.set_index('Time')"
      ],
      "execution_count": null,
      "outputs": []
    },
    {
      "cell_type": "code",
      "metadata": {
        "id": "NxlmKd9GdAhA",
        "colab_type": "code",
        "colab": {}
      },
      "source": [
        "df_re = df_ag.rename(columns = {'Brazil [BRA]':'Brazil', 'Canada [CAN]':'Canada', 'China [CHN]': 'China', 'France [FRA]':'France', \n",
        "                                'Germany [DEU]':'Germany', 'India [IND]' : 'India', 'Italy [ITA]':'Italy',\n",
        "                                'Japan [JPN]':'Japan', 'Russian Federation [RUS]':'Russia', \n",
        "                                'United Kingdom [GBR]': 'UK', 'United States [USA]':'USA'})\n",
        "df_re"
      ],
      "execution_count": null,
      "outputs": []
    },
    {
      "cell_type": "code",
      "metadata": {
        "id": "PHrFqNcOdAhL",
        "colab_type": "code",
        "colab": {}
      },
      "source": [
        "df_plot = df_re.set_index('Time')\n",
        "df_plot"
      ],
      "execution_count": null,
      "outputs": []
    },
    {
      "cell_type": "code",
      "metadata": {
        "id": "0iusYUv5dAhO",
        "colab_type": "code",
        "colab": {}
      },
      "source": [
        "num = df_plot.apply(pd.to_numeric)\n",
        "num"
      ],
      "execution_count": null,
      "outputs": []
    },
    {
      "cell_type": "code",
      "metadata": {
        "id": "_UZTyCU5dAhU",
        "colab_type": "code",
        "colab": {}
      },
      "source": [
        "num.info()"
      ],
      "execution_count": null,
      "outputs": []
    },
    {
      "cell_type": "code",
      "metadata": {
        "id": "IMk-XlyYdAhb",
        "colab_type": "code",
        "colab": {}
      },
      "source": [
        "pip install bar_chart_race"
      ],
      "execution_count": null,
      "outputs": []
    },
    {
      "cell_type": "code",
      "metadata": {
        "id": "7-PXS_5cdAhe",
        "colab_type": "code",
        "colab": {}
      },
      "source": [
        "import bar_chart_race as bcr\n",
        "bcr.bar_chart_race(num, n_bars=11, steps_per_period=2000, period_length=2000)"
      ],
      "execution_count": null,
      "outputs": []
    },
    {
      "cell_type": "code",
      "metadata": {
        "id": "2M1KI1J0dAh9",
        "colab_type": "code",
        "colab": {}
      },
      "source": [
        "import bar_chart_race as bcr\n",
        "bcr.bar_chart_race(num, 'F:/Big_Data/Agricultural land/ag.mp4', n_bars=11, steps_per_period=1000, period_length=1000, figsize=(5, 3))"
      ],
      "execution_count": null,
      "outputs": []
    },
    {
      "cell_type": "code",
      "metadata": {
        "id": "Y1wvahxPdAiA",
        "colab_type": "code",
        "colab": {}
      },
      "source": [
        ""
      ],
      "execution_count": null,
      "outputs": []
    }
  ]
}