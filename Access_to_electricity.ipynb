{
  "nbformat": 4,
  "nbformat_minor": 0,
  "metadata": {
    "kernelspec": {
      "display_name": "Python 3",
      "language": "python",
      "name": "python3"
    },
    "language_info": {
      "codemirror_mode": {
        "name": "ipython",
        "version": 3
      },
      "file_extension": ".py",
      "mimetype": "text/x-python",
      "name": "python",
      "nbconvert_exporter": "python",
      "pygments_lexer": "ipython3",
      "version": "3.7.6"
    },
    "colab": {
      "name": "Access to electricity.ipynb",
      "provenance": []
    }
  },
  "cells": [
    {
      "cell_type": "code",
      "metadata": {
        "id": "Pu6ku2FYdCgN",
        "colab_type": "code",
        "colab": {}
      },
      "source": [
        "import pandas as pd"
      ],
      "execution_count": null,
      "outputs": []
    },
    {
      "cell_type": "code",
      "metadata": {
        "id": "V5zM1Wg3dCgT",
        "colab_type": "code",
        "colab": {}
      },
      "source": [
        "path = 'F:\\Big_Data\\Access to electricity\\Access to electricity.csv'\n",
        "df = pd.read_csv(path)"
      ],
      "execution_count": null,
      "outputs": []
    },
    {
      "cell_type": "code",
      "metadata": {
        "id": "46l3T2cqdCgW",
        "colab_type": "code",
        "colab": {}
      },
      "source": [
        "df"
      ],
      "execution_count": null,
      "outputs": []
    },
    {
      "cell_type": "code",
      "metadata": {
        "id": "bP1gFGgsdCgc",
        "colab_type": "code",
        "colab": {}
      },
      "source": [
        "df.describe()"
      ],
      "execution_count": null,
      "outputs": []
    },
    {
      "cell_type": "code",
      "metadata": {
        "id": "-TZ4kQcQdCgh",
        "colab_type": "code",
        "colab": {}
      },
      "source": [
        "df.info()"
      ],
      "execution_count": null,
      "outputs": []
    },
    {
      "cell_type": "code",
      "metadata": {
        "id": "euut3GFBdCgl",
        "colab_type": "code",
        "colab": {}
      },
      "source": [
        "df.isnull().sum().sum()"
      ],
      "execution_count": null,
      "outputs": []
    },
    {
      "cell_type": "code",
      "metadata": {
        "id": "0SRdwyrsdCgo",
        "colab_type": "code",
        "colab": {}
      },
      "source": [
        "df_acc_et = df.drop(['Series Name', 'Series Code', 'Time Code'], axis = 1)\n",
        "df_acc_et"
      ],
      "execution_count": null,
      "outputs": []
    },
    {
      "cell_type": "code",
      "metadata": {
        "id": "747UiCXIdCgv",
        "colab_type": "code",
        "colab": {}
      },
      "source": [
        "df_2018 = df_acc_et.drop(df.index[48])\n",
        "df_2018"
      ],
      "execution_count": null,
      "outputs": []
    },
    {
      "cell_type": "code",
      "metadata": {
        "id": "pEFDbeUfdCgz",
        "colab_type": "code",
        "colab": {}
      },
      "source": [
        "df_ac = df_2018.drop(df.index[0:29])\n",
        "df_ac"
      ],
      "execution_count": null,
      "outputs": []
    },
    {
      "cell_type": "code",
      "metadata": {
        "id": "hmB1BxNndCg2",
        "colab_type": "code",
        "colab": {}
      },
      "source": [
        "df_ac['Time'] = df_ac['Time'].astype(int)\n",
        "df_ac"
      ],
      "execution_count": null,
      "outputs": []
    },
    {
      "cell_type": "code",
      "metadata": {
        "id": "esxXB5GadCg5",
        "colab_type": "code",
        "colab": {}
      },
      "source": [
        "df_ac.set_index('Time')"
      ],
      "execution_count": null,
      "outputs": []
    },
    {
      "cell_type": "code",
      "metadata": {
        "id": "TQMipIzudCg-",
        "colab_type": "code",
        "colab": {}
      },
      "source": [
        "df_re = df_ac.rename(columns = {'Brazil [BRA]':'Brazil', 'China [CHN]': 'China', 'France [FRA]':'France', \n",
        "                                'Germany [DEU]':'Germany', 'India [IND]' : 'India', 'Italy [ITA]':'Italy',\n",
        "                                'Japan [JPN]':'Japan', 'Russian Federation [RUS]':'Russian Federation', \n",
        "                                'United Kingdom [GBR]': 'United Kingdom', 'United States [USA]':'USA'})\n",
        "df_re"
      ],
      "execution_count": null,
      "outputs": []
    },
    {
      "cell_type": "code",
      "metadata": {
        "id": "d0QdCSBsdChD",
        "colab_type": "code",
        "colab": {}
      },
      "source": [
        "df_plot = df_re.set_index('Time')\n",
        "df_plot"
      ],
      "execution_count": null,
      "outputs": []
    },
    {
      "cell_type": "code",
      "metadata": {
        "id": "A1tEMcHOdChQ",
        "colab_type": "code",
        "colab": {}
      },
      "source": [
        "num = df_plot.apply(pd.to_numeric)\n",
        "num"
      ],
      "execution_count": null,
      "outputs": []
    },
    {
      "cell_type": "code",
      "metadata": {
        "id": "6-AmbKQsdChU",
        "colab_type": "code",
        "colab": {}
      },
      "source": [
        "num.info()"
      ],
      "execution_count": null,
      "outputs": []
    },
    {
      "cell_type": "code",
      "metadata": {
        "id": "BSMJf4SKdChY",
        "colab_type": "code",
        "colab": {}
      },
      "source": [
        "pip install bar_chart_race"
      ],
      "execution_count": null,
      "outputs": []
    },
    {
      "cell_type": "code",
      "metadata": {
        "id": "2193N6B6dChe",
        "colab_type": "code",
        "colab": {}
      },
      "source": [
        "import bar_chart_race as bcr\n",
        "bcr.bar_chart_race(num, n_bars=10, steps_per_period=2000, period_length=2000)"
      ],
      "execution_count": null,
      "outputs": []
    },
    {
      "cell_type": "code",
      "metadata": {
        "id": "FNtJoSYkdChp",
        "colab_type": "code",
        "colab": {}
      },
      "source": [
        ""
      ],
      "execution_count": null,
      "outputs": []
    }
  ]
}